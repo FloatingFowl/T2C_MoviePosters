{
 "cells": [
  {
   "cell_type": "code",
   "execution_count": 1,
   "metadata": {},
   "outputs": [],
   "source": [
    "import json\n",
    "import numpy as np\n",
    "import pickle\n",
    "import random\n",
    "import sys"
   ]
  },
  {
   "cell_type": "code",
   "execution_count": 2,
   "metadata": {},
   "outputs": [],
   "source": [
    "D_complete = dict()\n",
    "with open('./metadata/palettes.json','r') as f:\n",
    "    D_complete = json.load(f)"
   ]
  },
  {
   "cell_type": "code",
   "execution_count": 6,
   "metadata": {},
   "outputs": [],
   "source": [
    "L_genrelist = []\n",
    "L_palettelist = []\n",
    "L_movielist = []\n",
    "\n",
    "with open('./metadata/dataset_us.txt','r') as f:\n",
    "    S = f.readlines()\n",
    "    for i in S:\n",
    "        i = i.split('|')\n",
    "        x,y = i[1].strip(), i[2].strip().split(', ')\n",
    "        L_movielist.append(i[0].strip())\n",
    "        L_genrelist.append(y)\n",
    "        L_palettelist.append(D_complete[x])"
   ]
  },
  {
   "cell_type": "code",
   "execution_count": 7,
   "metadata": {},
   "outputs": [],
   "source": [
    "D_temp = dict()\n",
    "with open('./metadata/json_response.txt','r',errors='ignore') as f:\n",
    "    S = f.readlines()\n",
    "    for i in S:\n",
    "        i = i.split('|')[2]\n",
    "        try:\n",
    "            dc = json.loads(i)\n",
    "            if \"Title\" in dc:\n",
    "                D_temp[dc[\"Title\"]] = dc[\"Plot\"].strip()\n",
    "        except ValueError:\n",
    "            continue"
   ]
  },
  {
   "cell_type": "code",
   "execution_count": 8,
   "metadata": {},
   "outputs": [
    {
     "name": "stdout",
     "output_type": "stream",
     "text": [
      "12668 12668 12668 12668 12669 12669 12669\n"
     ]
    }
   ],
   "source": [
    "G_palettelist = []\n",
    "G_movielist = []\n",
    "G_plotlist = []\n",
    "G_genrelist = []\n",
    "\n",
    "cnt = 0\n",
    "j = 0\n",
    "for i in L_movielist:\n",
    "    if i in D_temp:\n",
    "        G_plotlist.append(D_temp[i])\n",
    "        G_palettelist.append(L_palettelist[j])\n",
    "        G_genrelist.append(L_genrelist[j])\n",
    "        G_movielist.append(i)\n",
    "    else:\n",
    "        cnt+=1\n",
    "    j+=1\n",
    "\n",
    "print(len(G_plotlist), len(G_genrelist), len(G_palettelist), len(G_movielist), len(L_genrelist), len(L_palettelist), len(L_movielist))"
   ]
  },
  {
   "cell_type": "code",
   "execution_count": 18,
   "metadata": {},
   "outputs": [],
   "source": [
    "with open('./traindata/TPN_allpalettes.txt', 'wb') as f:\n",
    "    pickle.dump(G_palettelist, f)"
   ]
  },
  {
   "cell_type": "code",
   "execution_count": 19,
   "metadata": {},
   "outputs": [],
   "source": [
    "with open('./traindata/TPN_allmovies.txt', 'wb') as f:\n",
    "    pickle.dump(G_movielist, f)"
   ]
  },
  {
   "cell_type": "code",
   "execution_count": 20,
   "metadata": {},
   "outputs": [],
   "source": [
    "with open('./traindata/TPN_allplots.txt', 'wb') as f:\n",
    "    pickle.dump(G_plotlist, f)"
   ]
  },
  {
   "cell_type": "code",
   "execution_count": 30,
   "metadata": {},
   "outputs": [],
   "source": [
    "with open('./traindata/TPN_allgenres.txt', 'wb') as f:\n",
    "    pickle.dump(G_genrelist, f)"
   ]
  },
  {
   "cell_type": "code",
   "execution_count": 15,
   "metadata": {},
   "outputs": [],
   "source": [
    "np.random.seed(0)\n",
    "ind = np.arange(12668)\n",
    "np.random.shuffle(ind)\n",
    "training_ind = ind[:2000]\n",
    "test_ind = ind[2000:]\n",
    "\n",
    "NPG_pallist_train = np.array(G_palettelist)[training_ind]\n",
    "NPG_movielist_train = np.array(G_movielist)[training_ind]\n",
    "NPG_plotlist_train = np.array(G_plotlist)[training_ind]\n",
    "NPG_genrelist_train = np.array(G_genrelist)[training_ind]\n",
    "\n",
    "NPG_pallist_test = np.array(G_palettelist)[test_ind]\n",
    "NPG_movielist_test = np.array(G_movielist)[test_ind]\n",
    "NPG_plotlist_test = np.array(G_plotlist)[test_ind]\n",
    "NPG_genrelist_test = np.array(G_genrelist)[test_ind]\n",
    "\n",
    "with open('./traindata/TPN_trainpalettes.txt', 'wb') as f:\n",
    "    pickle.dump(list(NPG_pallist_train), f)\n",
    "with open('./traindata/TPN_trainplots.txt', 'wb') as f:\n",
    "    pickle.dump(list(NPG_plotlist_train), f)\n",
    "with open('./traindata/TPN_trainmovies.txt', 'wb') as f:\n",
    "    pickle.dump(list(NPG_movielist_train), f)\n",
    "with open('./traindata/TPN_traingenres.txt', 'wb') as f:\n",
    "    pickle.dump(list(NPG_genrelist_train), f)    \n",
    "with open('./traindata/TPN_testpalettes.txt', 'wb') as f:\n",
    "    pickle.dump(list(NPG_pallist_test), f)\n",
    "with open('./traindata/TPN_testplots.txt', 'wb') as f:\n",
    "    pickle.dump(list(NPG_plotlist_test), f)\n",
    "with open('./traindata/TPN_testmovies.txt', 'wb') as f:\n",
    "    pickle.dump(list(NPG_movielist_test), f)     \n",
    "with open('./traindata/TPN_testgenres.txt', 'wb') as f:\n",
    "    pickle.dump(list(NPG_genrelist_test), f)        "
   ]
  },
  {
   "cell_type": "code",
   "execution_count": 31,
   "metadata": {},
   "outputs": [],
   "source": [
    "import math\n",
    "def app_one(x):\n",
    "    return 15 + 16 * math.floor(x/16.0)\n",
    "\n",
    "def app_two(x):\n",
    "    ret = [app_one(i) for i in x]\n",
    "    return ret\n",
    "    \n",
    "def app_three(x):\n",
    "    ret = [app_two(i) for i in x]\n",
    "    return ret\n",
    "    \n",
    "def app_four(x):\n",
    "    with open(\"./traindata/TPN_\"+x+\"palettes.txt\", \"rb\") as f:\n",
    "        a = pickle.load(f)\n",
    "    b = [app_three(i) for i in a]\n",
    "    with open(\"./traindata/TPN_\"+x+\"palettes_safe.txt\", \"wb\") as f:\n",
    "        pickle.dump(b, f)\n",
    "        \n",
    "app_four(\"all\")\n",
    "app_four(\"train\")\n",
    "app_four(\"test\")"
   ]
  },
  {
   "cell_type": "code",
   "execution_count": 34,
   "metadata": {},
   "outputs": [
    {
     "data": {
      "text/plain": [
       "[[223, 223, 223],\n",
       " [31, 31, 47],\n",
       " [111, 127, 127],\n",
       " [143, 159, 175],\n",
       " [127, 143, 159]]"
      ]
     },
     "execution_count": 34,
     "metadata": {},
     "output_type": "execute_result"
    }
   ],
   "source": [
    "x = \"test\"\n",
    "with open(\"./traindata/TPN_\"+x+\"palettes_safe.txt\", \"rb\") as f:\n",
    "    a = pickle.load(f)\n",
    "a[0]    "
   ]
  }
 ],
 "metadata": {
  "kernelspec": {
   "display_name": "Python 3",
   "language": "python",
   "name": "python3"
  },
  "language_info": {
   "codemirror_mode": {
    "name": "ipython",
    "version": 3
   },
   "file_extension": ".py",
   "mimetype": "text/x-python",
   "name": "python",
   "nbconvert_exporter": "python",
   "pygments_lexer": "ipython3",
   "version": "3.5.2"
  }
 },
 "nbformat": 4,
 "nbformat_minor": 2
}
